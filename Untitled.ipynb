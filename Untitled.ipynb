{
 "cells": [
  {
   "cell_type": "markdown",
   "id": "11e00089-16a6-4cd8-963c-0502690a1423",
   "metadata": {},
   "source": [
    "# Cellular Automata\n",
    "\n",
    "I have been thinking about cellular automata for a long time. Mostly because of the implications that is has with life.\n",
    "\n",
    "I first got introduced to Convay's game of life, while I was trying to lean python. At the time this game didn't offer me much wonder, until I heard Stephen Wolfram talking about it. Then I heard Marcus Hutter talk about it I think and then I realized how similar cellular automata was with life itself. What could this idea teach us about life. \n",
    "\n",
    "There are two main ideas that I have about this. \n",
    "\n",
    "1. We might be a cellular automata. Its so interesting to think about that. How we might be a collection of discrete pixels on a screen of a 4 dimentional beings computer. The reason I say it like this is that, I can imagine myself creating a two dimentional world. In this world 2D creature might evolve.\n",
    "2. This kind of ties into the first idea. I was thinking about how I could tell if a 2D being is a being or not. How can I tell if a 2D object has \"life\". I would assume they aggregate in groups. And that these two dimentional beings can predict a little into the future to help them survive. Maybe the idea of finding local rules that might not fit the universe on the grand scheme of things is defining of a world?\n",
    "\n",
    "I want to be able to look at lets say a one dimentional cellular automata. And then see if in the future there are some local rules that can predict the local future but not universal rules or \"the governing rule\" of the automata. \n",
    "\n",
    "Why is this important? I am not really sure why, but this was a really important idea for me. I remember thinking about how we don't really percieve things accuratley. We only percieve things that benefit us evolutionarily. (Donald Hoffman). In a sense, what helps our survival is finding these local rules that might now be right but help us predict a local future. I believe humans live on a very local level. We can't percieve time well. I think thats some measure of intellegence.\n",
    "\n",
    "Also its crazy to think that I mgiht be a set of cells on a computer screen and lets say our universe is just a 4D cellular automata. Then I am just a group of pixels and lets say I move through the world. That I might be something moving through the world but like a couple of pixels that illuminate in a row. You know what I mean. like imagine the glider, in Conways game of life. The glider isn't actually something that glides through the screen its actually just a group a pixels that affect thepixels adjacent to it such that it looks like its one entity gliding. but truthfully its not. We, humans, just anthropomorphize it to make it seem like one entity. What if I am not one entity.\n",
    "\n",
    "\n",
    "Anyways it seems beneficial to me to find possible local rules in ceullular autotmata. Maybe that be a sign of the possiblity of \"life\" in the computer.\n",
    "\n",
    "I think i mix up \"life\" and \"intellegence\". I truley think that predicting local futures is one of the qualities of \"intellegence\""
   ]
  },
  {
   "cell_type": "code",
   "execution_count": null,
   "id": "98eaa01d-4eb5-4211-99a4-b253caca343a",
   "metadata": {},
   "outputs": [],
   "source": []
  }
 ],
 "metadata": {
  "kernelspec": {
   "display_name": "Python 3 (ipykernel)",
   "language": "python",
   "name": "python3"
  },
  "language_info": {
   "codemirror_mode": {
    "name": "ipython",
    "version": 3
   },
   "file_extension": ".py",
   "mimetype": "text/x-python",
   "name": "python",
   "nbconvert_exporter": "python",
   "pygments_lexer": "ipython3",
   "version": "3.11.5"
  }
 },
 "nbformat": 4,
 "nbformat_minor": 5
}
